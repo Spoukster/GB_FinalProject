{
 "cells": [
  {
   "cell_type": "markdown",
   "metadata": {},
   "source": [
    "# Подготовка датасетов"
   ]
  },
  {
   "cell_type": "code",
   "execution_count": 1,
   "metadata": {},
   "outputs": [],
   "source": [
    "# Импорт библиотек\n",
    "import random\n",
    "import pandas as pd\n",
    "from datetime import timedelta, datetime\n",
    "\n",
    "pd.set_option('display.max_columns', None) "
   ]
  },
  {
   "cell_type": "markdown",
   "metadata": {},
   "source": [
    "## Подготовка статистической информации"
   ]
  },
  {
   "cell_type": "code",
   "execution_count": 2,
   "metadata": {},
   "outputs": [
    {
     "data": {
      "text/html": [
       "<div>\n",
       "<style scoped>\n",
       "    .dataframe tbody tr th:only-of-type {\n",
       "        vertical-align: middle;\n",
       "    }\n",
       "\n",
       "    .dataframe tbody tr th {\n",
       "        vertical-align: top;\n",
       "    }\n",
       "\n",
       "    .dataframe thead th {\n",
       "        text-align: right;\n",
       "    }\n",
       "</style>\n",
       "<table border=\"1\" class=\"dataframe\">\n",
       "  <thead>\n",
       "    <tr style=\"text-align: right;\">\n",
       "      <th></th>\n",
       "      <th>user_id</th>\n",
       "      <th>Attrition_Flag</th>\n",
       "      <th>Customer_Age</th>\n",
       "      <th>Gender</th>\n",
       "      <th>Dependent_count</th>\n",
       "      <th>Education_Level</th>\n",
       "      <th>Marital_Status</th>\n",
       "      <th>Income_Category</th>\n",
       "      <th>Card_Category</th>\n",
       "      <th>Months_on_book</th>\n",
       "      <th>Total_Relationship_Count</th>\n",
       "    </tr>\n",
       "  </thead>\n",
       "  <tbody>\n",
       "    <tr>\n",
       "      <th>0</th>\n",
       "      <td>768805383</td>\n",
       "      <td>Existing Customer</td>\n",
       "      <td>45</td>\n",
       "      <td>M</td>\n",
       "      <td>3</td>\n",
       "      <td>High School</td>\n",
       "      <td>Married</td>\n",
       "      <td>$60K - $80K</td>\n",
       "      <td>Blue</td>\n",
       "      <td>39</td>\n",
       "      <td>5</td>\n",
       "    </tr>\n",
       "    <tr>\n",
       "      <th>1</th>\n",
       "      <td>818770008</td>\n",
       "      <td>Existing Customer</td>\n",
       "      <td>49</td>\n",
       "      <td>F</td>\n",
       "      <td>5</td>\n",
       "      <td>Graduate</td>\n",
       "      <td>Single</td>\n",
       "      <td>Less than $40K</td>\n",
       "      <td>Blue</td>\n",
       "      <td>44</td>\n",
       "      <td>6</td>\n",
       "    </tr>\n",
       "    <tr>\n",
       "      <th>2</th>\n",
       "      <td>713982108</td>\n",
       "      <td>Existing Customer</td>\n",
       "      <td>51</td>\n",
       "      <td>M</td>\n",
       "      <td>3</td>\n",
       "      <td>Graduate</td>\n",
       "      <td>Married</td>\n",
       "      <td>$80K - $120K</td>\n",
       "      <td>Blue</td>\n",
       "      <td>36</td>\n",
       "      <td>4</td>\n",
       "    </tr>\n",
       "    <tr>\n",
       "      <th>3</th>\n",
       "      <td>769911858</td>\n",
       "      <td>Existing Customer</td>\n",
       "      <td>40</td>\n",
       "      <td>F</td>\n",
       "      <td>4</td>\n",
       "      <td>High School</td>\n",
       "      <td>Unknown</td>\n",
       "      <td>Less than $40K</td>\n",
       "      <td>Blue</td>\n",
       "      <td>34</td>\n",
       "      <td>3</td>\n",
       "    </tr>\n",
       "    <tr>\n",
       "      <th>4</th>\n",
       "      <td>709106358</td>\n",
       "      <td>Existing Customer</td>\n",
       "      <td>40</td>\n",
       "      <td>M</td>\n",
       "      <td>3</td>\n",
       "      <td>Uneducated</td>\n",
       "      <td>Married</td>\n",
       "      <td>$60K - $80K</td>\n",
       "      <td>Blue</td>\n",
       "      <td>21</td>\n",
       "      <td>5</td>\n",
       "    </tr>\n",
       "  </tbody>\n",
       "</table>\n",
       "</div>"
      ],
      "text/plain": [
       "     user_id     Attrition_Flag  Customer_Age Gender  Dependent_count  \\\n",
       "0  768805383  Existing Customer            45      M                3   \n",
       "1  818770008  Existing Customer            49      F                5   \n",
       "2  713982108  Existing Customer            51      M                3   \n",
       "3  769911858  Existing Customer            40      F                4   \n",
       "4  709106358  Existing Customer            40      M                3   \n",
       "\n",
       "  Education_Level Marital_Status Income_Category Card_Category  \\\n",
       "0     High School        Married     $60K - $80K          Blue   \n",
       "1        Graduate         Single  Less than $40K          Blue   \n",
       "2        Graduate        Married    $80K - $120K          Blue   \n",
       "3     High School        Unknown  Less than $40K          Blue   \n",
       "4      Uneducated        Married     $60K - $80K          Blue   \n",
       "\n",
       "   Months_on_book  Total_Relationship_Count  \n",
       "0              39                         5  \n",
       "1              44                         6  \n",
       "2              36                         4  \n",
       "3              34                         3  \n",
       "4              21                         5  "
      ]
     },
     "execution_count": 2,
     "metadata": {},
     "output_type": "execute_result"
    }
   ],
   "source": [
    "data = pd.read_csv('BankChurners.csv', sep=',')\n",
    "data = data[data.columns[:-12]]\n",
    "data.rename(columns={'CLIENTNUM': 'user_id'}, inplace=True)\n",
    "data.head(5)"
   ]
  },
  {
   "cell_type": "code",
   "execution_count": 3,
   "metadata": {},
   "outputs": [],
   "source": [
    "data.to_csv(path_or_buf='./BankChurners_static_data.csv', index=False)"
   ]
  },
  {
   "cell_type": "markdown",
   "metadata": {},
   "source": [
    "## Генерация транзакций"
   ]
  },
  {
   "cell_type": "code",
   "execution_count": 4,
   "metadata": {},
   "outputs": [],
   "source": [
    "# Список операций\n",
    "operations_list = ['buy', 'deposit', 'open_product', 'close_product']\n",
    "\n",
    "\n",
    "# Функция итерации по времени\n",
    "def datetime_range(start, delta):\n",
    "    current = start\n",
    "    for _ in range(1051200):\n",
    "        yield current\n",
    "        current += delta"
   ]
  },
  {
   "cell_type": "markdown",
   "metadata": {},
   "source": [
    "Создание id транзакции"
   ]
  },
  {
   "cell_type": "code",
   "execution_count": 5,
   "metadata": {},
   "outputs": [],
   "source": [
    "transaction_id = [x for x in range(1, 1051201)]"
   ]
  },
  {
   "cell_type": "markdown",
   "metadata": {},
   "source": [
    "Выбор пользователя"
   ]
  },
  {
   "cell_type": "code",
   "execution_count": 7,
   "metadata": {},
   "outputs": [],
   "source": [
    "# Получение списка id пользователей\n",
    "customer_id = pd.read_csv('BankChurners_static_data.csv')['user_id'].tolist()\n",
    "\n",
    "# Выбор рандомного пользователя\n",
    "user_id = [random.choice(customer_id) for _ in range(1051200)]"
   ]
  },
  {
   "cell_type": "markdown",
   "metadata": {},
   "source": [
    "Выбор рандомной операции с вероятностями"
   ]
  },
  {
   "cell_type": "code",
   "execution_count": 8,
   "metadata": {},
   "outputs": [],
   "source": [
    "events = [random.choices(operations_list, weights=[46, 44, 5, 5])[0] for _ in range(1051200)]"
   ]
  },
  {
   "cell_type": "markdown",
   "metadata": {},
   "source": [
    "Генерации времени транзакции"
   ]
  },
  {
   "cell_type": "code",
   "execution_count": 9,
   "metadata": {},
   "outputs": [],
   "source": [
    "dts = [dt.strftime('%Y-%m-%d %H:%M:%S') for dt in datetime_range(datetime(2021, 1, 1), timedelta(seconds=30))]"
   ]
  },
  {
   "cell_type": "markdown",
   "metadata": {},
   "source": [
    "Деньги"
   ]
  },
  {
   "cell_type": "code",
   "execution_count": 10,
   "metadata": {},
   "outputs": [],
   "source": [
    "money = []\n",
    "for event in events:\n",
    "    if event in ('buy', 'deposit'):\n",
    "        money.append(random.randint(100, 5000))\n",
    "    else:\n",
    "        money.append(0)"
   ]
  },
  {
   "cell_type": "markdown",
   "metadata": {},
   "source": [
    "Создание и сохранение датафрейма"
   ]
  },
  {
   "cell_type": "code",
   "execution_count": 11,
   "metadata": {},
   "outputs": [],
   "source": [
    "df = pd.DataFrame(list(zip(transaction_id, user_id, events, dts, money)), \\\n",
    "                  columns=['transaction_id', 'user_id', 'event', 'event_date', 'money'])\n",
    "\n",
    "df.to_csv(path_or_buf='./BankChurners_transaction.csv', index=False)"
   ]
  },
  {
   "cell_type": "code",
   "execution_count": 12,
   "metadata": {},
   "outputs": [
    {
     "data": {
      "text/html": [
       "<div>\n",
       "<style scoped>\n",
       "    .dataframe tbody tr th:only-of-type {\n",
       "        vertical-align: middle;\n",
       "    }\n",
       "\n",
       "    .dataframe tbody tr th {\n",
       "        vertical-align: top;\n",
       "    }\n",
       "\n",
       "    .dataframe thead th {\n",
       "        text-align: right;\n",
       "    }\n",
       "</style>\n",
       "<table border=\"1\" class=\"dataframe\">\n",
       "  <thead>\n",
       "    <tr style=\"text-align: right;\">\n",
       "      <th></th>\n",
       "      <th>transaction_id</th>\n",
       "      <th>user_id</th>\n",
       "      <th>event</th>\n",
       "      <th>event_date</th>\n",
       "      <th>money</th>\n",
       "    </tr>\n",
       "  </thead>\n",
       "  <tbody>\n",
       "    <tr>\n",
       "      <th>0</th>\n",
       "      <td>1</td>\n",
       "      <td>714745608</td>\n",
       "      <td>buy</td>\n",
       "      <td>2021-01-01 00:00:00</td>\n",
       "      <td>4636</td>\n",
       "    </tr>\n",
       "    <tr>\n",
       "      <th>1</th>\n",
       "      <td>2</td>\n",
       "      <td>713271708</td>\n",
       "      <td>deposit</td>\n",
       "      <td>2021-01-01 00:00:30</td>\n",
       "      <td>3259</td>\n",
       "    </tr>\n",
       "    <tr>\n",
       "      <th>2</th>\n",
       "      <td>3</td>\n",
       "      <td>712009083</td>\n",
       "      <td>buy</td>\n",
       "      <td>2021-01-01 00:01:00</td>\n",
       "      <td>842</td>\n",
       "    </tr>\n",
       "    <tr>\n",
       "      <th>3</th>\n",
       "      <td>4</td>\n",
       "      <td>822125283</td>\n",
       "      <td>buy</td>\n",
       "      <td>2021-01-01 00:01:30</td>\n",
       "      <td>1322</td>\n",
       "    </tr>\n",
       "    <tr>\n",
       "      <th>4</th>\n",
       "      <td>5</td>\n",
       "      <td>710825658</td>\n",
       "      <td>deposit</td>\n",
       "      <td>2021-01-01 00:02:00</td>\n",
       "      <td>3690</td>\n",
       "    </tr>\n",
       "  </tbody>\n",
       "</table>\n",
       "</div>"
      ],
      "text/plain": [
       "   transaction_id    user_id    event           event_date  money\n",
       "0               1  714745608      buy  2021-01-01 00:00:00   4636\n",
       "1               2  713271708  deposit  2021-01-01 00:00:30   3259\n",
       "2               3  712009083      buy  2021-01-01 00:01:00    842\n",
       "3               4  822125283      buy  2021-01-01 00:01:30   1322\n",
       "4               5  710825658  deposit  2021-01-01 00:02:00   3690"
      ]
     },
     "execution_count": 12,
     "metadata": {},
     "output_type": "execute_result"
    }
   ],
   "source": [
    "df.head(5)"
   ]
  },
  {
   "cell_type": "markdown",
   "metadata": {},
   "source": [
    "# Построение витрины"
   ]
  },
  {
   "cell_type": "code",
   "execution_count": null,
   "metadata": {},
   "outputs": [],
   "source": [
    "/spark2.4/bin/pyspark --master local[1] --driver-memory 512m --num-executors 1 --executor-memory 512m\n",
    "\n",
    "from pyspark.sql import SparkSession\n",
    "from pyspark.sql import functions as F\n",
    "from pyspark.sql.types import StructType, StringType, IntegerType"
   ]
  },
  {
   "cell_type": "markdown",
   "metadata": {},
   "source": [
    "Загрузка данных"
   ]
  },
  {
   "cell_type": "code",
   "execution_count": null,
   "metadata": {},
   "outputs": [],
   "source": [
    "static_data = spark.read.csv(\"file:///home/BD_228_yriabinin/data/BankChurners_static_data.csv\", sep=',', header=True)\n",
    "\n",
    "\n",
    "transact = spark.read.csv(\"file:///home/BD_228_yriabinin/data/BankChurners_transaction.csv\", sep=',', header=True)"
   ]
  },
  {
   "cell_type": "markdown",
   "metadata": {},
   "source": [
    "Количество открытых продуктов"
   ]
  },
  {
   "cell_type": "code",
   "execution_count": null,
   "metadata": {},
   "outputs": [],
   "source": [
    "temp_df = transact.filter(transact.event == 'open_product').groupBy('user_id').agg(F.count('event').alias('Open_Prod'))\n",
    "static_data = static_data.join(temp_df, 'user_id', 'left')"
   ]
  },
  {
   "cell_type": "markdown",
   "metadata": {},
   "source": [
    "Количество закрытых продуктов"
   ]
  },
  {
   "cell_type": "code",
   "execution_count": null,
   "metadata": {},
   "outputs": [],
   "source": [
    "temp_df = transact.filter(transact.event == 'close_product').groupBy('user_id').agg(F.count('event').alias('Close_Prod'))\n",
    "static_data = static_data.join(temp_df, 'user_id', 'left')"
   ]
  },
  {
   "cell_type": "markdown",
   "metadata": {},
   "source": [
    "Изменение количества продуктов к концу года и отношение количества продуктов в конце года к началу года"
   ]
  },
  {
   "cell_type": "code",
   "execution_count": null,
   "metadata": {},
   "outputs": [],
   "source": [
    "static_data = static_data.withColumn('Total_Rel_Chng', (F.col('Total_Relationship_Count') + F.col('Open_Prod') - \\\n",
    "                                                        F.col('Close_Prod')).cast('integer')). \\\n",
    "    withColumn('Total_Rel_Chng_Ratio', F.round(F.col('Total_Rel_Chng') / F.col('Total_Relationship_Count'), 2))"
   ]
  },
  {
   "cell_type": "markdown",
   "metadata": {},
   "source": [
    "Количество открытых продуктов по кварталам"
   ]
  },
  {
   "cell_type": "code",
   "execution_count": null,
   "metadata": {},
   "outputs": [],
   "source": [
    "temp_df = transact.filter(transact.event == 'open_product'). \\\n",
    "    filter((transact.event_date >= '2021-01-01 00:00:00') & (transact.event_date < '2021-04-01 00:00:00')). \\\n",
    "    groupBy('user_id').agg(F.count('event').alias('Open_Prod_Q1'))\n",
    "static_data = static_data.join(temp_df, 'user_id', 'left')\n",
    "\n",
    "temp_df = transact.filter(transact.event == 'open_product'). \\\n",
    "    filter((transact.event_date >= '2021-04-01 00:00:00') & (transact.event_date < '2021-07-01 00:00:00')). \\\n",
    "    groupBy('user_id').agg(F.count('event').alias('Open_Prod_Q2'))\n",
    "static_data = static_data.join(temp_df, 'user_id', 'left')\n",
    "\n",
    "temp_df = transact.filter(transact.event == 'open_product'). \\\n",
    "    filter((transact.event_date >= '2021-07-01 00:00:00') & (transact.event_date < '2021-10-01 00:00:00')). \\\n",
    "    groupBy('user_id').agg(F.count('event').alias('Open_Prod_Q3'))\n",
    "static_data = static_data.join(temp_df, 'user_id', 'left')\n",
    "\n",
    "temp_df = transact.filter(transact.event == 'open_product'). \\\n",
    "    filter((transact.event_date >= '2021-10-01 00:00:00') & (transact.event_date <= '2021-12-31 23:59:30')). \\\n",
    "    groupBy('user_id').agg(F.count('event').alias('Open_Prod_Q4'))\n",
    "static_data = static_data.join(temp_df, 'user_id', 'left')"
   ]
  },
  {
   "cell_type": "markdown",
   "metadata": {},
   "source": [
    "Количество закрытых продуктов по кварталам"
   ]
  },
  {
   "cell_type": "code",
   "execution_count": null,
   "metadata": {},
   "outputs": [],
   "source": [
    "temp_df = transact.filter(transact.event == 'close_product'). \\\n",
    "    filter((transact.event_date >= '2021-01-01 00:00:00') & (transact.event_date < '2021-04-01 00:00:00')). \\\n",
    "    groupBy('user_id').agg(F.count('event').alias('Close_Prod_Q1'))\n",
    "static_data = static_data.join(temp_df, 'user_id', 'left')\n",
    "\n",
    "temp_df = transact.filter(transact.event == 'close_product'). \\\n",
    "    filter((transact.event_date >= '2021-04-01 00:00:00') & (transact.event_date < '2021-07-01 00:00:00')). \\\n",
    "    groupBy('user_id').agg(F.count('event').alias('Close_Prod_Q2'))\n",
    "static_data = static_data.join(temp_df, 'user_id', 'left')\n",
    "\n",
    "temp_df = transact.filter(transact.event == 'close_product'). \\\n",
    "    filter((transact.event_date >= '2021-07-01 00:00:00') & (transact.event_date < '2021-10-01 00:00:00')). \\\n",
    "    groupBy('user_id').agg(F.count('event').alias('Close_Prod_Q3'))\n",
    "static_data = static_data.join(temp_df, 'user_id', 'left')\n",
    "\n",
    "temp_df = transact.filter(transact.event == 'close_product'). \\\n",
    "    filter((transact.event_date >= '2021-10-01 00:00:00') & (transact.event_date <= '2021-12-31 23:59:30')). \\\n",
    "    groupBy('user_id').agg(F.count('event').alias('Close_Prod_Q4'))\n",
    "static_data = static_data.join(temp_df, 'user_id', 'left')"
   ]
  },
  {
   "cell_type": "markdown",
   "metadata": {},
   "source": [
    "Количество обращений в банк"
   ]
  },
  {
   "cell_type": "code",
   "execution_count": null,
   "metadata": {},
   "outputs": [],
   "source": [
    "temp_df = transact.filter((transact.event == 'open_product') | (transact.event == 'close_product')). \\\n",
    "    groupBy('user_id').agg(F.count('event').alias('Contacts_Count_12_mon'))\n",
    "static_data = static_data.join(temp_df, 'user_id', 'left')"
   ]
  },
  {
   "cell_type": "markdown",
   "metadata": {},
   "source": [
    "Количество транзакций в год"
   ]
  },
  {
   "cell_type": "code",
   "execution_count": null,
   "metadata": {},
   "outputs": [],
   "source": [
    "temp_df = transact.filter((transact.event == 'buy') | (transact.event == 'deposit')). \\\n",
    "    groupBy('user_id').agg(F.count('event').alias('Total_Trans_Ct_12_mon'))\n",
    "static_data = static_data.join(temp_df, 'user_id', 'left')"
   ]
  },
  {
   "cell_type": "markdown",
   "metadata": {},
   "source": [
    "Количество транзакций по кварталам"
   ]
  },
  {
   "cell_type": "code",
   "execution_count": null,
   "metadata": {},
   "outputs": [],
   "source": [
    "temp_df = transact.filter((transact.event == 'buy') | (transact.event == 'deposit')). \\\n",
    "    filter((transact.event_date >= '2021-01-01 00:00:00') & (transact.event_date < '2021-04-01 00:00:00')). \\\n",
    "    groupBy('user_id').agg(F.count('event').alias('Trans_Ct_Q1'))\n",
    "static_data = static_data.join(temp_df, 'user_id', 'left')\n",
    "\n",
    "temp_df = transact.filter((transact.event == 'buy') | (transact.event == 'deposit')). \\\n",
    "    filter((transact.event_date >= '2021-04-01 00:00:00') & (transact.event_date < '2021-07-01 00:00:00')). \\\n",
    "    groupBy('user_id').agg(F.count('event').alias('Trans_Ct_Q2'))\n",
    "static_data = static_data.join(temp_df, 'user_id', 'left')\n",
    "\n",
    "temp_df = transact.filter((transact.event == 'buy') | (transact.event == 'deposit')). \\\n",
    "    filter((transact.event_date >= '2021-07-01 00:00:00') & (transact.event_date < '2021-10-01 00:00:00')). \\\n",
    "    groupBy('user_id').agg(F.count('event').alias('Trans_Ct_Q3'))\n",
    "static_data = static_data.join(temp_df, 'user_id', 'left')\n",
    "\n",
    "temp_df = transact.filter((transact.event == 'buy') | (transact.event == 'deposit')). \\\n",
    "    filter((transact.event_date >= '2021-10-01 00:00:00') & (transact.event_date <= '2021-12-31 23:59:30')). \\\n",
    "    groupBy('user_id').agg(F.count('event').alias('Trans_Ct_Q4'))\n",
    "static_data = static_data.join(temp_df, 'user_id', 'left')"
   ]
  },
  {
   "cell_type": "code",
   "execution_count": null,
   "metadata": {},
   "outputs": [],
   "source": []
  },
  {
   "cell_type": "markdown",
   "metadata": {},
   "source": [
    "Сумма по расходным операциям"
   ]
  },
  {
   "cell_type": "code",
   "execution_count": null,
   "metadata": {},
   "outputs": [],
   "source": [
    "temp_df = transact.filter(transact.event == 'buy'). \\\n",
    "    groupBy('user_id').agg(F.sum('money').cast('integer').alias('Total_Buy_Amt'))\n",
    "static_data = static_data.join(temp_df, 'user_id', 'left')"
   ]
  },
  {
   "cell_type": "markdown",
   "metadata": {},
   "source": [
    "Сумма по приходным операциям"
   ]
  },
  {
   "cell_type": "code",
   "execution_count": null,
   "metadata": {},
   "outputs": [],
   "source": [
    "temp_df = transact.filter(transact.event == 'deposit'). \\\n",
    "    groupBy('user_id').agg(F.sum('money').cast('integer').alias('Total_Dep_Amt'))\n",
    "static_data = static_data.join(temp_df, 'user_id', 'left')"
   ]
  },
  {
   "cell_type": "markdown",
   "metadata": {},
   "source": [
    "Заполнение нулями пустых значений"
   ]
  },
  {
   "cell_type": "code",
   "execution_count": null,
   "metadata": {},
   "outputs": [],
   "source": [
    "static_data = static_data.na.fill(0)"
   ]
  },
  {
   "cell_type": "markdown",
   "metadata": {},
   "source": [
    "Сохранение датафрейма в файл"
   ]
  },
  {
   "cell_type": "code",
   "execution_count": null,
   "metadata": {},
   "outputs": [],
   "source": [
    "static_data.repartition(1).write.format(\"com.databricks.spark.csv\").option(\"header\", \"true\").save('file:///home/BD_228_yriabinin/data/output.csv')"
   ]
  },
  {
   "cell_type": "code",
   "execution_count": null,
   "metadata": {},
   "outputs": [],
   "source": []
  }
 ],
 "metadata": {
  "kernelspec": {
   "display_name": "Python 3",
   "language": "python",
   "name": "python3"
  },
  "language_info": {
   "codemirror_mode": {
    "name": "ipython",
    "version": 3
   },
   "file_extension": ".py",
   "mimetype": "text/x-python",
   "name": "python",
   "nbconvert_exporter": "python",
   "pygments_lexer": "ipython3",
   "version": "3.9.1"
  }
 },
 "nbformat": 4,
 "nbformat_minor": 4
}
